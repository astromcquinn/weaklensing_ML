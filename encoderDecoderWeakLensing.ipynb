{
  "cells": [
    {
      "cell_type": "markdown",
      "id": "ed531a95",
      "metadata": {
        "id": "ed531a95"
      },
      "source": [
        "# Implements encoder/decoder for weak lensing outputs"
      ]
    },
    {
      "cell_type": "code",
      "execution_count": null,
      "id": "043347a6",
      "metadata": {
        "id": "043347a6"
      },
      "outputs": [],
      "source": [
        "# extract tarfiles if necessary and set specs for run"
      ]
    },
    {
      "cell_type": "code",
      "source": [
        "import os\n",
        "use_COLAB = 1\n",
        "\n",
        "if use_COLAB == 1:\n",
        "  from google.colab import drive\n",
        "  drive.mount('/content/gdrive')\n",
        "\n",
        "  WORK_AREA = '/content/gdrive/My Drive/weaklensing_ML/' #columbialensing/\n",
        "  os.chdir(WORK_AREA)"
      ],
      "metadata": {
        "colab": {
          "base_uri": "https://localhost:8080/"
        },
        "id": "KEtElnI8fDj1",
        "outputId": "8a3cfff2-2f99-4dba-e644-da1dd8ca7c22"
      },
      "id": "KEtElnI8fDj1",
      "execution_count": 5,
      "outputs": [
        {
          "output_type": "stream",
          "name": "stdout",
          "text": [
            "Mounted at /content/gdrive\n"
          ]
        }
      ]
    },
    {
      "cell_type": "code",
      "execution_count": 6,
      "id": "a4a5315a",
      "metadata": {
        "id": "a4a5315a"
      },
      "outputs": [],
      "source": [
        "\n",
        "import tarfile\n",
        "import os\n",
        "import shutil\n",
        "from astropy.io import fits\n",
        "import numpy as np\n",
        "from scipy.ndimage import zoom\n",
        "import re\n",
        "import tensorflow as tf\n",
        "import random\n",
        "\n",
        "\n",
        "# Specify the directory containing the .tar files\n",
        "directory_path = './columbialensing/'\n",
        "\n",
        "\n",
        "max_cosmologies = -1 #for testing.  Set to -1 to use everything.\n",
        "\n",
        "number_batches = 10\n",
        "#validation_split = 0.4  # use this fraction of the data for validation\n",
        "normalize_by_RMS = False #set to one if you want to renormalize by RMS\n",
        "\n",
        "\n",
        "# Set the learning rate\n",
        "learning_rate = 0.005\n",
        "\n",
        "# image_size\n",
        "image_size = 1024 #really makes sense to use the 1024s\n",
        "sub_image_size = 64 #needs to divide image size\n",
        "number_subimages_across =image_size//sub_image_size\n",
        "\n",
        "\n",
        "number_fits_files = 512\n",
        "suffix = f\"_{image_size}\"\n",
        "extract_tarfiles = False  #if I need to extract tarfiles\n",
        "\n",
        "run_suffix = rf\"im{image_size}\"\n",
        "\n",
        "#extracts only if indicated (could make this more elegant by checking to see if they exist)\n",
        "if extract_tarfiles:\n",
        "    # Use a regular expression to match .tar files with the desired suffix\n",
        "    pattern = re.compile(rf\"{suffix}.tar$\")\n",
        "\n",
        "    # List all matching .tar files in the directory\n",
        "    all_tar_files = [f for f in os.listdir(directory_path) if pattern.search(f)]\n",
        "\n",
        "    # Extract the tar archive\n",
        "    for tar_file in all_tar_files:\n",
        "        #print(tar_file)\n",
        "        tar_file_path = os.path.join(directory_path, tar_file)\n",
        "        with tarfile.open(tar_file_path, 'r') as archive:\n",
        "            archive.extractall(path=directory_path)\n",
        ""
      ]
    },
    {
      "cell_type": "markdown",
      "id": "0619681f",
      "metadata": {
        "id": "0619681f"
      },
      "source": [
        "# Read into memory the data"
      ]
    },
    {
      "cell_type": "code",
      "execution_count": 7,
      "id": "48a05090",
      "metadata": {
        "colab": {
          "base_uri": "https://localhost:8080/"
        },
        "id": "48a05090",
        "outputId": "c1144c01-925a-4904-90e3-cf69d476eb26"
      },
      "outputs": [
        {
          "output_type": "stream",
          "name": "stdout",
          "text": [
            "reading in Om0.268_si0.801\n",
            "RMS=0.017738014459609985\n"
          ]
        }
      ],
      "source": [
        "def get_labels_for_file(dir_name):\n",
        "    \"\"\"\n",
        "    Extracts labels from the tar file name.\n",
        "    For the file \"Om0.183_si0.958_256.tar\", the labels will be [0.183, 0.958].\n",
        "\n",
        "    Args:\n",
        "    - tar_file_name (str): Name of the tar file.\n",
        "\n",
        "    Returns:\n",
        "    - list: List containing the two labels extracted from the filename.\n",
        "    \"\"\"\n",
        "    # Split the filename on underscores\n",
        "    parts = dir_name.split('_')\n",
        "\n",
        "    # Extract the numeric values for 'Om' and 'si'\n",
        "    om_label = float(parts[0][2:])\n",
        "    si_label = float(parts[1][2:])\n",
        "\n",
        "    return [om_label, si_label]\n",
        "\n",
        "\n",
        "#now loop through all files in the\n",
        "pattern = re.compile(rf\"{suffix}$\")\n",
        "#all_directories = [f for f in os.listdir(directory_path) if pattern.search(f)]\n",
        "all_directories = [\"Om0.268_si0.801\"] # \"Om0.283_si0.805_256\"\n",
        "num_cosmologies = len(all_directories)\n",
        "\n",
        "random.shuffle(all_directories) #this makes it so that there is no particular order for the directories\n",
        "#print(all_directories)\n",
        "\n",
        "#tensor of labels; there are two labels for each\n",
        "numsubimages = number_subimages_across**2\n",
        "number_images = number_fits_files*numsubimages\n",
        "#cosmology_labels = np.empty((len(all_directories), number_images, 2), dtype=np.float16)\n",
        "\n",
        "RMS =0 #first time set to zero\n",
        "data_array = np.empty((num_cosmologies, number_images, sub_image_size, sub_image_size), dtype=np.float16)\n",
        "for idy, dir_name in enumerate(all_directories):\n",
        "    if max_cosmologies>0 and idy >= max_cosmologies:\n",
        "        break\n",
        "\n",
        "    #if idy%10 ==0:\n",
        "    print(\"reading in\", dir_name)\n",
        "    dir_path = os.path.join(directory_path, dir_name)\n",
        "\n",
        "    all_files = os.listdir(dir_path)\n",
        "    fits_files = [f for f in all_files if f.endswith('.fits')]\n",
        "\n",
        "\n",
        "\n",
        "    for idx, file in enumerate(fits_files):\n",
        "        with fits.open(os.path.join(dir_path, file)) as hdul:\n",
        "\n",
        "            original_data = hdul[0].data\n",
        "\n",
        "            if RMS == 0: #get RMS to divide by for first file to normalize everything\n",
        "                RMS = np.sqrt(np.var(hdul[0].data))\n",
        "                print(f\"RMS={RMS}\")\n",
        "\n",
        "            ##get rid of NANs, which affects a few files\n",
        "            #if np.isnan(original_data).any():\n",
        "            #    continue\n",
        "            #I've cleaned this out already\n",
        "            for i in range(number_subimages_across):\n",
        "                for j in range(number_subimages_across):\n",
        "                    data_array[idy][numsubimages*idx+ number_subimages_across*i+j] = original_data[sub_image_size*i:sub_image_size*(i+1),\\\n",
        "                                                                  sub_image_size*j:sub_image_size*(j+1)]\n",
        "\n",
        "    #since all fits files in one directory have the same label\n",
        "    cosmology = get_labels_for_file(dir_name)\n",
        "    #cosmology_labels[idy] = np.array([cosmology for i in range(number_fits_files)])\n",
        "\n",
        "\n",
        "    #flatten data_array[idy][numsubimages*idx+ number_subimages_across*i+j]\n",
        "WL_tensor = tf.convert_to_tensor(data_array)\n",
        "\n",
        "WL_tensor = tf.reshape(WL_tensor, (-1, WL_tensor.shape[2], WL_tensor.shape[3]));\n",
        "\n",
        "WL_tensor = WL_tensor[..., np.newaxis]  # Add channel dimension"
      ]
    },
    {
      "cell_type": "code",
      "execution_count": 6,
      "id": "d13c0a40",
      "metadata": {
        "colab": {
          "base_uri": "https://localhost:8080/"
        },
        "id": "d13c0a40",
        "outputId": "5f827fda-946a-4860-8890-3d468d7fa1c0"
      },
      "outputs": [
        {
          "output_type": "stream",
          "name": "stdout",
          "text": [
            "tf.Tensor([131072     64     64      1], shape=(4,), dtype=int32)\n"
          ]
        }
      ],
      "source": [
        "#Just testing arrays\n",
        "\n",
        "get_labels_for_file('Om0.264_si0.768_256')\n",
        "\n",
        "print(tf.shape(WL_tensor))\n",
        "\n"
      ]
    },
    {
      "cell_type": "markdown",
      "id": "621149d6",
      "metadata": {
        "id": "621149d6"
      },
      "source": [
        "# create decoder-encoder CNN models"
      ]
    },
    {
      "cell_type": "code",
      "execution_count": 19,
      "id": "828293a3",
      "metadata": {
        "id": "828293a3"
      },
      "outputs": [],
      "source": [
        "from tensorflow.keras import layers, models\n",
        "from keras.layers import LeakyReLU, BatchNormalization\n",
        "\n",
        "number_channels = 256\n",
        "\n",
        "act_string = LeakyReLU(alpha=0.1) #okay, not a string\n",
        "\n",
        "def create_simple_encoder(input_shape, n):\n",
        "    if n<2:\n",
        "        print(\"n is too small.  n >=2\")\n",
        "\n",
        "    model = models.Sequential()\n",
        "    model.add(layers.InputLayer(input_shape))\n",
        "\n",
        "    model.add(layers.Conv2D(number_channels/2, (3, 3), activation=act_string, padding='same'))\n",
        "\n",
        "    model.add(layers.MaxPooling2D((2, 2)))\n",
        "\n",
        "    for nlayer in range(1,n):\n",
        "        model.add(layers.Conv2D(number_channels, (3, 3), activation=act_string, padding='same'))\n",
        "        model.add(BatchNormalization())\n",
        "        model.add(layers.MaxPooling2D((2, 2)))\n",
        "\n",
        "    # Adding a Dense layer for encoding\n",
        "    model.add(layers.Flatten())\n",
        "    model.add(layers.Dense(units=(input_shape[0] * input_shape[1]) // (4 ** n), activation=act_string))\n",
        "\n",
        "    return model\n",
        "\n",
        "\n",
        "def create_simple_decoder(encoded_length, input_shape, n):\n",
        "    model = models.Sequential()\n",
        "\n",
        "    # The input is a flat array\n",
        "    model.add(layers.InputLayer((encoded_length,)))\n",
        "\n",
        "\n",
        "\n",
        "    # Expanding the flat array to a 3D tensor\n",
        "    model.add(layers.Dense(units=np.prod(encoded_length*64), activation=act_string))\n",
        "\n",
        "\n",
        "    # Calculate the dimensions for the first reshape\n",
        "    # It should match the output size of the last MaxPooling layer in the encoder\n",
        "    reshape_dims = (input_shape[0] // (2 ** n), input_shape[1] // (2 ** n), 64)\n",
        "\n",
        "    model.add(layers.Reshape(reshape_dims))\n",
        "\n",
        "    # Upsampling to original size, looping over number of layers\n",
        "    for nlayer in range(1, n):\n",
        "        model.add(layers.Conv2DTranspose(number_channels, (3, 3), activation=act_string, padding='same'))\n",
        "        model.add(BatchNormalization())\n",
        "        model.add(layers.UpSampling2D((2, 2)))\n",
        "\n",
        "    model.add(layers.Conv2DTranspose(number_channels/2, (3, 3), activation=act_string, padding='same'))\n",
        "    model.add(layers.UpSampling2D((2, 2)))\n",
        "\n",
        "    # Final layer to reconstruct the image\n",
        "    model.add(layers.Conv2D(original_shape[2], (3, 3), activation='linear', padding='same'))\n",
        "\n",
        "    return model\n",
        "\n",
        "\n",
        "\n",
        "\n",
        "\n",
        "n=2 #number of layers (needs to be >2)\n",
        "original_shape = [sub_image_size, sub_image_size, 1]\n",
        "simple_encoder = create_simple_encoder(original_shape , n)\n",
        "\n",
        "encoded_length = sub_image_size*sub_image_size//int(4**n)\n",
        "simple_decoder = create_simple_decoder(encoded_length,original_shape, n)\n",
        "\n"
      ]
    },
    {
      "cell_type": "code",
      "execution_count": 20,
      "id": "ff71209a",
      "metadata": {
        "id": "ff71209a"
      },
      "outputs": [],
      "source": [
        "from tensorflow.keras.optimizers import Adam\n",
        "from keras import backend as K\n",
        "\n",
        "# Combine the encoder and decoder to create the autoencoder\n",
        "simple_autoencoder = models.Sequential([simple_encoder, simple_decoder])\n",
        "\n",
        "# Create an Adam optimizer with the desired learning rate\n",
        "adam_optimizer = Adam(learning_rate=learning_rate)\n",
        "\n",
        "\n",
        "\n",
        "simple_autoencoder.compile(optimizer='adam', loss=\"mae\") #loss=fractional_difference_loss) #, run_eagerly=True)"
      ]
    },
    {
      "cell_type": "code",
      "execution_count": 21,
      "id": "ec6a8f7c",
      "metadata": {
        "colab": {
          "base_uri": "https://localhost:8080/"
        },
        "id": "ec6a8f7c",
        "outputId": "70eedae3-f6cf-4bec-90fd-27bb9daaebe1"
      },
      "outputs": [
        {
          "output_type": "stream",
          "name": "stdout",
          "text": [
            "Epoch 1/10\n",
            "512/512 [==============================] - 138s 265ms/step - loss: 0.0064\n",
            "Epoch 2/10\n",
            "512/512 [==============================] - 135s 264ms/step - loss: 0.0021\n",
            "Epoch 3/10\n",
            "512/512 [==============================] - 135s 264ms/step - loss: 0.0019\n",
            "Epoch 4/10\n",
            "512/512 [==============================] - 135s 263ms/step - loss: 0.0017\n",
            "Epoch 5/10\n",
            "512/512 [==============================] - 135s 263ms/step - loss: 0.0016\n",
            "Epoch 6/10\n",
            "512/512 [==============================] - 135s 263ms/step - loss: 0.0015\n",
            "Epoch 7/10\n",
            "512/512 [==============================] - 135s 263ms/step - loss: 0.0015\n",
            "Epoch 8/10\n",
            "512/512 [==============================] - 135s 263ms/step - loss: 0.0014\n",
            "Epoch 9/10\n",
            "512/512 [==============================] - 135s 264ms/step - loss: 0.0013\n",
            "Epoch 10/10\n",
            "512/512 [==============================] - 135s 264ms/step - loss: 0.0013\n"
          ]
        },
        {
          "output_type": "execute_result",
          "data": {
            "text/plain": [
              "<keras.src.callbacks.History at 0x796eb82f5cf0>"
            ]
          },
          "metadata": {},
          "execution_count": 21
        }
      ],
      "source": [
        "\n",
        "simple_autoencoder.fit(WL_tensor, WL_tensor,\n",
        "                epochs=10,\n",
        "                batch_size=256,\n",
        "                shuffle=True)"
      ]
    },
    {
      "cell_type": "markdown",
      "id": "95cc9323",
      "metadata": {
        "id": "95cc9323"
      },
      "source": [
        "## More complex model"
      ]
    },
    {
      "cell_type": "code",
      "execution_count": 24,
      "id": "b82c7819",
      "metadata": {
        "id": "b82c7819"
      },
      "outputs": [],
      "source": [
        "from tensorflow.keras import layers, models\n",
        "\n",
        "\n",
        "number_channels = 64\n",
        "\n",
        "act_func = LeakyReLU(alpha=0.1)\n",
        "\n",
        "def create_encoder(input_shape, n):\n",
        "    if n<2:\n",
        "        print(\"n is too small.  n >=2\")\n",
        "\n",
        "    model = models.Sequential()\n",
        "    model.add(layers.InputLayer(input_shape))\n",
        "\n",
        "    model.add(layers.Conv2D(number_channels/2, (3, 3), activation=act_func, padding='same'))\n",
        "    model.add(layers.Conv2D(number_channels, (1, 1), activation=act_func, padding='same'))\n",
        "    model.add(layers.MaxPooling2D((2, 2)))\n",
        "\n",
        "    for nlayer in range(1,n):\n",
        "        model.add(layers.Conv2D(number_channels, (3, 3), activation=act_func, padding='same'))\n",
        "        model.add(BatchNormalization())\n",
        "        model.add(layers.Conv2D(number_channels, (1, 1), activation=act_func, padding='same'))\n",
        "        model.add(layers.Conv2D(number_channels, (3, 3), activation=act_func, padding='same'))\n",
        "        model.add(BatchNormalization())\n",
        "        model.add(layers.MaxPooling2D((2, 2)))\n",
        "\n",
        "    # Adding a Dense layer for encoding\n",
        "    model.add(layers.Flatten())\n",
        "    model.add(layers.Dense(units=(input_shape[0] * input_shape[1]) // (4 ** n), activation=act_func))\n",
        "\n",
        "    return model\n",
        "\n",
        "\n",
        "def create_decoder(encoded_length, input_shape, n):\n",
        "    model = models.Sequential()\n",
        "\n",
        "    # The input is a flat array\n",
        "    model.add(layers.InputLayer((encoded_length,)))\n",
        "\n",
        "\n",
        "\n",
        "    # Expanding the flat array to a 3D tensor\n",
        "    model.add(layers.Dense(units=np.prod(encoded_length*64), activation=act_func))\n",
        "\n",
        "\n",
        "    # Calculate the dimensions for the first reshape\n",
        "    # It should match the output size of the last MaxPooling layer in the encoder\n",
        "    reshape_dims = (input_shape[0] // (2 ** n), input_shape[1] // (2 ** n), 64)\n",
        "\n",
        "    model.add(layers.Reshape(reshape_dims))\n",
        "\n",
        "    # Upsampling to original size, looping over number of layers\n",
        "    for nlayer in range(1, n):\n",
        "        model.add(layers.Conv2DTranspose(number_channels, (3, 3), activation=act_func, padding='same'))\n",
        "        model.add(BatchNormalization())\n",
        "        model.add(layers.Conv2DTranspose(number_channels, (1, 1), activation=act_func, padding='same'))\n",
        "        model.add(layers.Conv2DTranspose(number_channels, (3, 3), activation=act_func, padding='same'))\n",
        "        model.add(BatchNormalization())\n",
        "        model.add(layers.UpSampling2D((2, 2)))\n",
        "\n",
        "    model.add(layers.Conv2DTranspose(number_channels, (1, 1), activation=act_func, padding='same'))\n",
        "    model.add(layers.Conv2DTranspose(number_channels/2, (3, 3), activation=act_func, padding='same'))\n",
        "    model.add(layers.UpSampling2D((2, 2)))\n",
        "\n",
        "    # Final layer to reconstruct the image\n",
        "    model.add(layers.Conv2D(original_shape[2], (3, 3), activation='linear', padding='same'))\n",
        "\n",
        "    return model\n",
        "\n",
        "\n",
        "\n",
        "\n",
        "\n",
        "n=2 #number of layers (needs to be >2)\n",
        "original_shape = [sub_image_size, sub_image_size, 1]\n",
        "encoder = create_encoder(original_shape , n)\n",
        "\n",
        "encoded_length = sub_image_size*sub_image_size//int(4**n)\n",
        "decoder = create_decoder(encoded_length,original_shape, n)\n",
        "\n"
      ]
    },
    {
      "cell_type": "code",
      "execution_count": 25,
      "id": "0de30dd6",
      "metadata": {
        "id": "0de30dd6"
      },
      "outputs": [],
      "source": [
        "from tensorflow.keras.optimizers import Adam\n",
        "from keras import backend as K\n",
        "\n",
        "# Combine the encoder and decoder to create the autoencoder\n",
        "autoencoder = models.Sequential([encoder, decoder])\n",
        "\n",
        "# Create an Adam optimizer with the desired learning rate\n",
        "adam_optimizer = Adam(learning_rate=learning_rate)\n",
        "\n",
        "def fractional_difference_loss(y_true, y_pred):\n",
        "    # Avoid division by zero\n",
        "    epsilon = .01 # A small, non-zero number to prevent division by zero\n",
        "    # Calculate the fractional difference\n",
        "    loss = K.mean(K.abs((y_pred - y_true) / (K.abs(y_true) + epsilon)), axis=-1)\n",
        "    return loss\n",
        "\n",
        "def fractional_square_loss(y_true, y_pred):\n",
        "    # Avoid division by zero\n",
        "    epsilon = 1e-2 # A small, non-zero number to prevent division by zero\n",
        "    # Calculate the fractional difference\n",
        "    loss = K.square((y_pred - y_true) / (K.abs(y_true) + epsilon))\n",
        "    return loss\n",
        "\n",
        "\n",
        "\n",
        "autoencoder.compile(optimizer='adam', loss=\"mae\") #loss=fractional_difference_loss) #, run_eagerly=True)"
      ]
    },
    {
      "cell_type": "code",
      "execution_count": 26,
      "id": "98722fce",
      "metadata": {
        "colab": {
          "base_uri": "https://localhost:8080/"
        },
        "id": "98722fce",
        "outputId": "33308051-2bb4-4abe-9b4d-388deff5e9a7"
      },
      "outputs": [
        {
          "output_type": "stream",
          "name": "stdout",
          "text": [
            "Model: \"sequential_15\"\n",
            "_________________________________________________________________\n",
            " Layer (type)                Output Shape              Param #   \n",
            "=================================================================\n",
            " conv2d_18 (Conv2D)          (None, 64, 64, 32)        320       \n",
            "                                                                 \n",
            " conv2d_19 (Conv2D)          (None, 64, 64, 64)        2112      \n",
            "                                                                 \n",
            " max_pooling2d_10 (MaxPooli  (None, 32, 32, 64)        0         \n",
            " ng2D)                                                           \n",
            "                                                                 \n",
            " conv2d_20 (Conv2D)          (None, 32, 32, 64)        36928     \n",
            "                                                                 \n",
            " batch_normalization_4 (Bat  (None, 32, 32, 64)        256       \n",
            " chNormalization)                                                \n",
            "                                                                 \n",
            " conv2d_21 (Conv2D)          (None, 32, 32, 64)        4160      \n",
            "                                                                 \n",
            " conv2d_22 (Conv2D)          (None, 32, 32, 64)        36928     \n",
            "                                                                 \n",
            " batch_normalization_5 (Bat  (None, 32, 32, 64)        256       \n",
            " chNormalization)                                                \n",
            "                                                                 \n",
            " max_pooling2d_11 (MaxPooli  (None, 16, 16, 64)        0         \n",
            " ng2D)                                                           \n",
            "                                                                 \n",
            " flatten_5 (Flatten)         (None, 16384)             0         \n",
            "                                                                 \n",
            " dense_10 (Dense)            (None, 256)               4194560   \n",
            "                                                                 \n",
            "=================================================================\n",
            "Total params: 4275520 (16.31 MB)\n",
            "Trainable params: 4275264 (16.31 MB)\n",
            "Non-trainable params: 256 (1.00 KB)\n",
            "_________________________________________________________________\n",
            "Model: \"sequential_16\"\n",
            "_________________________________________________________________\n",
            " Layer (type)                Output Shape              Param #   \n",
            "=================================================================\n",
            " dense_11 (Dense)            (None, 16384)             4210688   \n",
            "                                                                 \n",
            " reshape_5 (Reshape)         (None, 16, 16, 64)        0         \n",
            "                                                                 \n",
            " conv2d_transpose_13 (Conv2  (None, 16, 16, 64)        36928     \n",
            " DTranspose)                                                     \n",
            "                                                                 \n",
            " batch_normalization_6 (Bat  (None, 16, 16, 64)        256       \n",
            " chNormalization)                                                \n",
            "                                                                 \n",
            " conv2d_transpose_14 (Conv2  (None, 16, 16, 64)        4160      \n",
            " DTranspose)                                                     \n",
            "                                                                 \n",
            " conv2d_transpose_15 (Conv2  (None, 16, 16, 64)        36928     \n",
            " DTranspose)                                                     \n",
            "                                                                 \n",
            " batch_normalization_7 (Bat  (None, 16, 16, 64)        256       \n",
            " chNormalization)                                                \n",
            "                                                                 \n",
            " up_sampling2d_10 (UpSampli  (None, 32, 32, 64)        0         \n",
            " ng2D)                                                           \n",
            "                                                                 \n",
            " conv2d_transpose_16 (Conv2  (None, 32, 32, 64)        4160      \n",
            " DTranspose)                                                     \n",
            "                                                                 \n",
            " conv2d_transpose_17 (Conv2  (None, 32, 32, 32)        18464     \n",
            " DTranspose)                                                     \n",
            "                                                                 \n",
            " up_sampling2d_11 (UpSampli  (None, 64, 64, 32)        0         \n",
            " ng2D)                                                           \n",
            "                                                                 \n",
            " conv2d_23 (Conv2D)          (None, 64, 64, 1)         289       \n",
            "                                                                 \n",
            "=================================================================\n",
            "Total params: 4312129 (16.45 MB)\n",
            "Trainable params: 4311873 (16.45 MB)\n",
            "Non-trainable params: 256 (1.00 KB)\n",
            "_________________________________________________________________\n"
          ]
        }
      ],
      "source": [
        "encoder.summary()\n",
        "\n",
        "decoder.summary()"
      ]
    },
    {
      "cell_type": "markdown",
      "id": "0659942d",
      "metadata": {
        "id": "0659942d"
      },
      "source": [
        "# train simple CNN"
      ]
    },
    {
      "cell_type": "code",
      "execution_count": null,
      "id": "7da431d7",
      "metadata": {
        "colab": {
          "base_uri": "https://localhost:8080/"
        },
        "id": "7da431d7",
        "outputId": "f2f5a3b3-e5f6-457e-82f0-1b7bba798b32"
      },
      "outputs": [
        {
          "output_type": "stream",
          "name": "stdout",
          "text": [
            "(131072, 64, 64, 1)\n",
            "Epoch 1/10\n",
            "512/512 [==============================] - 67s 121ms/step - loss: 0.0080\n",
            "Epoch 2/10\n",
            "512/512 [==============================] - 62s 121ms/step - loss: 0.0033\n",
            "Epoch 3/10\n",
            "512/512 [==============================] - 62s 121ms/step - loss: 0.0026\n",
            "Epoch 4/10\n",
            "512/512 [==============================] - 62s 121ms/step - loss: 0.0022\n",
            "Epoch 5/10\n",
            "314/512 [=================>............] - ETA: 23s - loss: 0.0021"
          ]
        }
      ],
      "source": [
        "print(WL_tensor.shape)\n",
        "\n",
        "#encoded = encoder(WL_tensor[:256, :, :, :])\n",
        "#decoder(encoded)\n",
        "\n",
        "autoencoder.fit(WL_tensor, WL_tensor,\n",
        "                epochs=10,\n",
        "                batch_size=256,\n",
        "                shuffle=True)"
      ]
    },
    {
      "cell_type": "code",
      "execution_count": 22,
      "id": "ca90b78c",
      "metadata": {
        "colab": {
          "base_uri": "https://localhost:8080/",
          "height": 805
        },
        "id": "ca90b78c",
        "outputId": "2a3a5758-f6cd-439f-c91c-1389642f8536"
      },
      "outputs": [
        {
          "output_type": "display_data",
          "data": {
            "text/plain": [
              "<Figure size 1000x500 with 2 Axes>"
            ],
            "image/png": "[encoded data removed]"
          },
          "metadata": {}
        },
        {
          "output_type": "display_data",
          "data": {
            "text/plain": [
              "<Figure size 1000x500 with 2 Axes>"
            ],
            "image/png": "[encoded data removed]"
          },
          "metadata": {}
        }
      ],
      "source": [
        "import matplotlib.pyplot as plt\n",
        "import numpy as np\n",
        "\n",
        "# Assuming WL_tensor is a 4D tensor with shape (num_images, height, width, channels)\n",
        "# and sub_image_size is the size of the second and third dimensions (height and width).\n",
        "num_images = 5\n",
        "sub_image_size = WL_tensor.shape[1]  # Assuming height and width are the same\n",
        "\n",
        "# Get the outputs from the decoder\n",
        "decoded_images = simple_decoder(simple_encoder(WL_tensor[:num_images,...])).numpy()\n",
        "\n",
        "# Function to display images\n",
        "def display_side_by_side(index):\n",
        "    if index < 0 or index >= num_images:\n",
        "        raise ValueError(\"Index out of bounds\")\n",
        "\n",
        "    # Select the specific input and output images\n",
        "    input_image = WL_tensor[index, :, :, 0]  # Assuming grayscale, channel dimension is 0\n",
        "    output_image = decoded_images[index, :, :, 0]  # Also assuming grayscale\n",
        "\n",
        "    # Create a figure with two subplots\n",
        "    fig, axes = plt.subplots(1, 2, figsize=(10, 5))\n",
        "\n",
        "    # Display the input image in the first subplot\n",
        "    axes[0].imshow(input_image, cmap='viridis', vmin=-0.05, vmax=.1)\n",
        "    axes[0].set_title(f'Input Image {index}')\n",
        "    axes[0].axis('off')  # Hide the axis\n",
        "\n",
        "    # Display the output image in the second subplot\n",
        "    axes[1].imshow(output_image, cmap='viridis', vmin=-0.05, vmax=.1)\n",
        "    axes[1].set_title(f'Decoded Image {index}')\n",
        "    axes[1].axis('off')  # Hide the axis\n",
        "\n",
        "\n",
        "    # Display the images\n",
        "    plt.show()\n",
        "\n",
        "# Example usage for the first image\n",
        "display_side_by_side(0)  # You can loop or call this function for other indices as well\n",
        "display_side_by_side(2)"
      ]
    },
    {
      "cell_type": "code",
      "execution_count": null,
      "id": "97e8d6bc",
      "metadata": {
        "id": "97e8d6bc"
      },
      "outputs": [],
      "source": []
    }
  ],
  "metadata": {
    "kernelspec": {
      "display_name": "Python 3",
      "name": "python3"
    },
    "language_info": {
      "codemirror_mode": {
        "name": "ipython",
        "version": 3
      },
      "file_extension": ".py",
      "mimetype": "text/x-python",
      "name": "python",
      "nbconvert_exporter": "python",
      "pygments_lexer": "ipython3",
      "version": "3.11.5"
    },
    "colab": {
      "provenance": [],
      "gpuType": "T4"
    },
    "accelerator": "GPU"
  },
  "nbformat": 4,
  "nbformat_minor": 5
}